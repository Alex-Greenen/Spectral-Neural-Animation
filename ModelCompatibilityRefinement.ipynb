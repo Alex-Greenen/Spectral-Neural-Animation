{
 "cells": [
  {
   "cell_type": "code",
   "execution_count": 1,
   "metadata": {
    "tags": []
   },
   "outputs": [
    {
     "name": "stdout",
     "output_type": "stream",
     "text": [
      "Found Files: ['walk3_subject1_0', 'walk1_subject1_1', 'walk1_subject1_0', 'run2_subject1_0', 'run2_subject1_1']\n",
      "Found Files: ['walk2_subject1_0', 'run2_subject1_0']\n",
      "Starting Training of ModelCompatibilityRefinement...\n",
      "Creating DB...\n",
      "Creating NN & Trainer...\n",
      "Starting training...\n"
     ]
    }
   ],
   "source": [
    "from ProcessData.TrainingLoss import TrainingLoss\n",
    "import time\n",
    "from ModelCompatibilityRefinement.Database import DataBase\n",
    "from ModelCompatibilityRefinement.Train import Train, TrainingConfig\n",
    "from ModelCompatibilityRefinement.LossType import ModelCompatibilityRefinementLossType\n",
    "import Format \n",
    "\n",
    "# USE: conda activate /Users/alexgreenen/Documents/Project/training\n",
    "#      /Users/alexgreenen/Documents/Project/training/bin/python -m cProfile -o program.prof general_use.py\n",
    "#      snakeviz program.prof\n",
    "\n",
    "DB_train = DataBase('TrainingData', sequenceLengthLong=20, sampling_down_factor=0.01)\n",
    "DB_validation = DataBase('ValidationData', sequenceLengthLong=20, sampling_down_factor=0.01)\n",
    "\n",
    "name = Format.name\n",
    "network_dir = ['VAE/VAE_{}.pymodel'.format(name), 'LowFrequency/LF_{}.pymodel'.format(name), 'HighFrequency/HF_{}.pymodel'.format(name)]\n",
    "\n",
    "training_config = TrainingConfig(5, 50, 0.000001, 0.85, 2, 5)\n",
    "error_config = TrainingLoss(ModelCompatibilityRefinementLossType, [\n",
    "                15,             # Discriminator \n",
    "                10,             # Latent \n",
    "                2,              # LowFrequency\n",
    "                0.5,            # Angle\n",
    "                0.1,            # FK\n",
    "                20.,            # PosVel\n",
    "                1.,             # Rotflat\n",
    "                10.,            # RotVelVert\n",
    "                5.,             # Height\n",
    "                0.1,            # Feet\n",
    "                1,              # Contacts\n",
    "                0.2,            # Angle Smooth\n",
    "                0.01,           # FK Smooth\n",
    "                1.,             # PosVel Smooth\n",
    "                2.,             # Rotflat Smooth\n",
    "                0.,             # RotVelVert Smooth\n",
    "                1.,             # Height Smooth\n",
    "                0.05,           # FeetSmooth\n",
    "                ])\n",
    "\n",
    "Train(training_config, error_config, \"Refinement_\"+name+time.strftime(\"_%m-%d-%H:%M\"), DB_train, DB_validation, network_dir, True)"
   ]
  }
 ],
 "metadata": {
  "kernelspec": {
   "display_name": "Python 3.6.13 64-bit ('training': conda)",
   "name": "python3613jvsc74a57bd05dc5123d629ae0f96a0d3d1d1d76c2b3f625531915443a9d026b67ef09b9e73e"
  },
  "language_info": {
   "codemirror_mode": {
    "name": "ipython",
    "version": 3
   },
   "file_extension": ".py",
   "mimetype": "text/x-python",
   "name": "python",
   "nbconvert_exporter": "python",
   "pygments_lexer": "ipython3",
   "version": "3.6.13"
  },
  "orig_nbformat": 2
 },
 "nbformat": 4,
 "nbformat_minor": 2
}