{
 "cells": [
  {
   "cell_type": "code",
   "execution_count": 1,
   "metadata": {},
   "outputs": [
    {
     "name": "stdout",
     "output_type": "stream",
     "text": [
      "Found Files: ['walk3_subject1_0', 'walk1_subject1_1', 'walk1_subject1_0', 'run2_subject1_0', 'run2_subject1_1']\n",
      "Found Files: ['walk2_subject1_0', 'run2_subject1_0']\n",
      "Starting Training of ModelCompatibilityRefinement...\n",
      "Creating DB...\n",
      "Creating NN & Trainer...\n",
      "Starting training...\n"
     ]
    }
   ],
   "source": [
    "from HighFrequency_2.Database import DataBase\n",
    "from HighFrequency_2.Train import TrainingConfig, Train\n",
    "from ProcessData.TrainingLoss import TrainingLoss\n",
    "from HighFrequency_2.LossType import HighFrequencyLossType\n",
    "import time\n",
    "import Format\n",
    "\n",
    "name = Format.name\n",
    "\n",
    "DB_train = DataBase('TrainingData', 'VAE/VAE_'+name+'.pymodel', sequenceLengthLong= 10, sampling_down_factor= 1./10)\n",
    "DB_validate = DataBase('ValidationData', 'VAE/VAE_'+name+'.pymodel', sequenceLengthLong= 10, sampling_down_factor= 0.005)\n",
    "\n",
    "training_config = TrainingConfig(20, 50, 0.0001, 0.96, 3, 3)\n",
    "error_config = TrainingLoss(HighFrequencyLossType, [\n",
    "                20,             # Latent\n",
    "                0,              # Discriminator\n",
    "                0.5,            # Angle\n",
    "                0.003,          # FK\n",
    "                1.,             # PosVel\n",
    "                1.,             # Rotflat\n",
    "                10.,            # RotVelVert\n",
    "                5.,             # Height\n",
    "                0.005,          # Feet\n",
    "                1,              # Contacts\n",
    "                0.2,            # Angle Smooth\n",
    "                0.01,           # FK Smooth\n",
    "                1.,             # PosVel Smooth\n",
    "                2.,             # Rotflat Smooth\n",
    "                0.,             # RotVelVert Smooth\n",
    "                1.,             # Height Smooth\n",
    "                0.05,           # FeetSmooth\n",
    "                ])\n",
    "\n",
    "Train(training_config, error_config, \"HighFrequency_2/HF_\"+name+\".pymodel\", \"HF_\"+name+time.strftime(\"_%m-%d-%H:%M\"), DB_train, DB_validate, visual = True)"
   ]
  }
 ],
 "metadata": {
  "kernelspec": {
   "display_name": "Python 3.6.13 64-bit ('training': conda)",
   "name": "python3613jvsc74a57bd05dc5123d629ae0f96a0d3d1d1d76c2b3f625531915443a9d026b67ef09b9e73e"
  },
  "language_info": {
   "codemirror_mode": {
    "name": "ipython",
    "version": 3
   },
   "file_extension": ".py",
   "mimetype": "text/x-python",
   "name": "python",
   "nbconvert_exporter": "python",
   "pygments_lexer": "ipython3",
   "version": "3.6.13"
  },
  "metadata": {
   "interpreter": {
    "hash": "238b27eb1af0ac7b9e07a1b65d569b3ecb8bfa1ca05023b0ebc2379c79cd44d1"
   }
  },
  "orig_nbformat": 2
 },
 "nbformat": 4,
 "nbformat_minor": 2
}